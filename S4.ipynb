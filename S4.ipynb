{
 "cells": [
  {
   "cell_type": "code",
   "execution_count": 120,
   "metadata": {},
   "outputs": [],
   "source": [
    "import pandas as pd"
   ]
  },
  {
   "cell_type": "code",
   "execution_count": 121,
   "metadata": {},
   "outputs": [],
   "source": [
    "filepath = \"https://bit.ly/world-cities-clean\""
   ]
  },
  {
   "cell_type": "code",
   "execution_count": 122,
   "metadata": {},
   "outputs": [
    {
     "data": {
      "text/html": [
       "<div>\n",
       "<style scoped>\n",
       "    .dataframe tbody tr th:only-of-type {\n",
       "        vertical-align: middle;\n",
       "    }\n",
       "\n",
       "    .dataframe tbody tr th {\n",
       "        vertical-align: top;\n",
       "    }\n",
       "\n",
       "    .dataframe thead th {\n",
       "        text-align: right;\n",
       "    }\n",
       "</style>\n",
       "<table border=\"1\" class=\"dataframe\">\n",
       "  <thead>\n",
       "    <tr style=\"text-align: right;\">\n",
       "      <th></th>\n",
       "      <th>name</th>\n",
       "      <th>country</th>\n",
       "      <th>subcountry</th>\n",
       "      <th>geonameid</th>\n",
       "    </tr>\n",
       "  </thead>\n",
       "  <tbody>\n",
       "    <tr>\n",
       "      <th>0</th>\n",
       "      <td>les Escaldes</td>\n",
       "      <td>Andorra</td>\n",
       "      <td>Escaldes-Engordany</td>\n",
       "      <td>3040051</td>\n",
       "    </tr>\n",
       "    <tr>\n",
       "      <th>1</th>\n",
       "      <td>Andorra la Vella</td>\n",
       "      <td>Andorra</td>\n",
       "      <td>Andorra la Vella</td>\n",
       "      <td>3041563</td>\n",
       "    </tr>\n",
       "    <tr>\n",
       "      <th>2</th>\n",
       "      <td>Umm al Qaywayn</td>\n",
       "      <td>United Arab Emirates</td>\n",
       "      <td>Umm al Qaywayn</td>\n",
       "      <td>290594</td>\n",
       "    </tr>\n",
       "    <tr>\n",
       "      <th>3</th>\n",
       "      <td>Ras al-Khaimah</td>\n",
       "      <td>United Arab Emirates</td>\n",
       "      <td>Raʼs al Khaymah</td>\n",
       "      <td>291074</td>\n",
       "    </tr>\n",
       "    <tr>\n",
       "      <th>4</th>\n",
       "      <td>Khawr Fakkān</td>\n",
       "      <td>United Arab Emirates</td>\n",
       "      <td>Ash Shāriqah</td>\n",
       "      <td>291696</td>\n",
       "    </tr>\n",
       "  </tbody>\n",
       "</table>\n",
       "</div>"
      ],
      "text/plain": [
       "               name               country          subcountry  geonameid\n",
       "0      les Escaldes               Andorra  Escaldes-Engordany    3040051\n",
       "1  Andorra la Vella               Andorra    Andorra la Vella    3041563\n",
       "2    Umm al Qaywayn  United Arab Emirates      Umm al Qaywayn     290594\n",
       "3    Ras al-Khaimah  United Arab Emirates     Raʼs al Khaymah     291074\n",
       "4      Khawr Fakkān  United Arab Emirates        Ash Shāriqah     291696"
      ]
     },
     "execution_count": 122,
     "metadata": {},
     "output_type": "execute_result"
    }
   ],
   "source": [
    "df= pd.read_csv(filepath)\n",
    "df.head()"
   ]
  },
  {
   "cell_type": "code",
   "execution_count": 123,
   "metadata": {},
   "outputs": [
    {
     "name": "stdout",
     "output_type": "stream",
     "text": [
      "https://bit.ly/world-cities-dirty-v1\n"
     ]
    }
   ],
   "source": [
    "fp = 'https://bit.ly/world-cities-dirty-v1'\n",
    "print(fp)"
   ]
  },
  {
   "cell_type": "code",
   "execution_count": 124,
   "metadata": {},
   "outputs": [
    {
     "data": {
      "text/html": [
       "<div>\n",
       "<style scoped>\n",
       "    .dataframe tbody tr th:only-of-type {\n",
       "        vertical-align: middle;\n",
       "    }\n",
       "\n",
       "    .dataframe tbody tr th {\n",
       "        vertical-align: top;\n",
       "    }\n",
       "\n",
       "    .dataframe thead th {\n",
       "        text-align: right;\n",
       "    }\n",
       "</style>\n",
       "<table border=\"1\" class=\"dataframe\">\n",
       "  <thead>\n",
       "    <tr style=\"text-align: right;\">\n",
       "      <th></th>\n",
       "      <th>name</th>\n",
       "      <th>country</th>\n",
       "      <th>subcountry</th>\n",
       "      <th>geonameid</th>\n",
       "    </tr>\n",
       "  </thead>\n",
       "  <tbody>\n",
       "    <tr>\n",
       "      <th>0</th>\n",
       "      <td>les Escaldes</td>\n",
       "      <td>Andorra</td>\n",
       "      <td>Escaldes-Engordany</td>\n",
       "      <td>3040051</td>\n",
       "    </tr>\n",
       "    <tr>\n",
       "      <th>1</th>\n",
       "      <td>Andorra la Vella</td>\n",
       "      <td>Andorra</td>\n",
       "      <td>Andorra la Vella</td>\n",
       "      <td>3041563</td>\n",
       "    </tr>\n",
       "    <tr>\n",
       "      <th>2</th>\n",
       "      <td>Umm al Qaywayn</td>\n",
       "      <td>United Arab Emirates</td>\n",
       "      <td>Umm al Qaywayn</td>\n",
       "      <td>290594</td>\n",
       "    </tr>\n",
       "  </tbody>\n",
       "</table>\n",
       "</div>"
      ],
      "text/plain": [
       "               name               country          subcountry  geonameid\n",
       "0      les Escaldes               Andorra  Escaldes-Engordany    3040051\n",
       "1  Andorra la Vella               Andorra    Andorra la Vella    3041563\n",
       "2    Umm al Qaywayn  United Arab Emirates      Umm al Qaywayn     290594"
      ]
     },
     "execution_count": 124,
     "metadata": {},
     "output_type": "execute_result"
    }
   ],
   "source": [
    "df = pd.read_csv(fp , names = [\"name\",\"country\",\"subcountry\",\"geonameid\"])\n",
    "df.head(3)"
   ]
  },
  {
   "cell_type": "code",
   "execution_count": 125,
   "metadata": {},
   "outputs": [
    {
     "name": "stdout",
     "output_type": "stream",
     "text": [
      "https://bit.ly/world-cities-dirty-v2\n"
     ]
    }
   ],
   "source": [
    "fp = 'https://bit.ly/world-cities-dirty-v2'\n",
    "print(fp)"
   ]
  },
  {
   "cell_type": "code",
   "execution_count": 126,
   "metadata": {},
   "outputs": [
    {
     "name": "stderr",
     "output_type": "stream",
     "text": [
      "/var/folders/sv/nvyrkmfj1bjb805g76mpfkyw0000gp/T/ipykernel_11296/937061303.py:1: ParserWarning: Falling back to the 'python' engine because the 'c' engine does not support skipfooter; you can avoid this warning by specifying engine='python'.\n",
      "  df = pd.read_csv(fp ,\n"
     ]
    },
    {
     "data": {
      "text/html": [
       "<div>\n",
       "<style scoped>\n",
       "    .dataframe tbody tr th:only-of-type {\n",
       "        vertical-align: middle;\n",
       "    }\n",
       "\n",
       "    .dataframe tbody tr th {\n",
       "        vertical-align: top;\n",
       "    }\n",
       "\n",
       "    .dataframe thead th {\n",
       "        text-align: right;\n",
       "    }\n",
       "</style>\n",
       "<table border=\"1\" class=\"dataframe\">\n",
       "  <thead>\n",
       "    <tr style=\"text-align: right;\">\n",
       "      <th></th>\n",
       "      <th>name</th>\n",
       "      <th>country</th>\n",
       "      <th>subcountry</th>\n",
       "      <th>geonameid</th>\n",
       "    </tr>\n",
       "  </thead>\n",
       "  <tbody>\n",
       "    <tr>\n",
       "      <th>0</th>\n",
       "      <td>les Escaldes</td>\n",
       "      <td>Andorra</td>\n",
       "      <td>Escaldes-Engordany</td>\n",
       "      <td>3040051</td>\n",
       "    </tr>\n",
       "    <tr>\n",
       "      <th>1</th>\n",
       "      <td>Andorra la Vella</td>\n",
       "      <td>Andorra</td>\n",
       "      <td>Andorra la Vella</td>\n",
       "      <td>3041563</td>\n",
       "    </tr>\n",
       "    <tr>\n",
       "      <th>2</th>\n",
       "      <td>Umm al Qaywayn</td>\n",
       "      <td>United Arab Emirates</td>\n",
       "      <td>Umm al Qaywayn</td>\n",
       "      <td>290594</td>\n",
       "    </tr>\n",
       "    <tr>\n",
       "      <th>3</th>\n",
       "      <td>Ras al-Khaimah</td>\n",
       "      <td>United Arab Emirates</td>\n",
       "      <td>Raʼs al Khaymah</td>\n",
       "      <td>291074</td>\n",
       "    </tr>\n",
       "    <tr>\n",
       "      <th>4</th>\n",
       "      <td>Khawr Fakkān</td>\n",
       "      <td>United Arab Emirates</td>\n",
       "      <td>Ash Shāriqah</td>\n",
       "      <td>291696</td>\n",
       "    </tr>\n",
       "  </tbody>\n",
       "</table>\n",
       "</div>"
      ],
      "text/plain": [
       "               name               country          subcountry  geonameid\n",
       "0      les Escaldes               Andorra  Escaldes-Engordany    3040051\n",
       "1  Andorra la Vella               Andorra    Andorra la Vella    3041563\n",
       "2    Umm al Qaywayn  United Arab Emirates      Umm al Qaywayn     290594\n",
       "3    Ras al-Khaimah  United Arab Emirates     Raʼs al Khaymah     291074\n",
       "4      Khawr Fakkān  United Arab Emirates        Ash Shāriqah     291696"
      ]
     },
     "execution_count": 126,
     "metadata": {},
     "output_type": "execute_result"
    }
   ],
   "source": [
    "df = pd.read_csv(fp ,\n",
    "skiprows = 2,\n",
    "skipfooter = 1)\n",
    "df.head()"
   ]
  },
  {
   "cell_type": "code",
   "execution_count": 127,
   "metadata": {},
   "outputs": [
    {
     "name": "stdout",
     "output_type": "stream",
     "text": [
      "https://bit.ly/world-cities-dirty-v3\n"
     ]
    }
   ],
   "source": [
    "fp = 'https://bit.ly/world-cities-dirty-v3'\n",
    "print(fp)"
   ]
  },
  {
   "cell_type": "code",
   "execution_count": 128,
   "metadata": {},
   "outputs": [
    {
     "data": {
      "text/html": [
       "<div>\n",
       "<style scoped>\n",
       "    .dataframe tbody tr th:only-of-type {\n",
       "        vertical-align: middle;\n",
       "    }\n",
       "\n",
       "    .dataframe tbody tr th {\n",
       "        vertical-align: top;\n",
       "    }\n",
       "\n",
       "    .dataframe thead th {\n",
       "        text-align: right;\n",
       "    }\n",
       "</style>\n",
       "<table border=\"1\" class=\"dataframe\">\n",
       "  <thead>\n",
       "    <tr style=\"text-align: right;\">\n",
       "      <th></th>\n",
       "      <th>les Escaldes</th>\n",
       "      <th>Andorra</th>\n",
       "      <th>Escaldes-Engordany</th>\n",
       "      <th>3040051</th>\n",
       "    </tr>\n",
       "  </thead>\n",
       "  <tbody>\n",
       "    <tr>\n",
       "      <th>0</th>\n",
       "      <td>Andorra la Vella</td>\n",
       "      <td>Andorra</td>\n",
       "      <td>Andorra la Vella</td>\n",
       "      <td>3041563</td>\n",
       "    </tr>\n",
       "    <tr>\n",
       "      <th>1</th>\n",
       "      <td>Umm al Qaywayn</td>\n",
       "      <td>United Arab Emirates</td>\n",
       "      <td>Umm al Qaywayn</td>\n",
       "      <td>290594</td>\n",
       "    </tr>\n",
       "    <tr>\n",
       "      <th>2</th>\n",
       "      <td>Ras al-Khaimah</td>\n",
       "      <td>United Arab Emirates</td>\n",
       "      <td>Raʼs al Khaymah</td>\n",
       "      <td>291074</td>\n",
       "    </tr>\n",
       "    <tr>\n",
       "      <th>3</th>\n",
       "      <td>Khawr Fakkān</td>\n",
       "      <td>United Arab Emirates</td>\n",
       "      <td>Ash Shāriqah</td>\n",
       "      <td>291696</td>\n",
       "    </tr>\n",
       "    <tr>\n",
       "      <th>4</th>\n",
       "      <td>Dubai</td>\n",
       "      <td>United Arab Emirates</td>\n",
       "      <td>Dubai</td>\n",
       "      <td>292223</td>\n",
       "    </tr>\n",
       "  </tbody>\n",
       "</table>\n",
       "</div>"
      ],
      "text/plain": [
       "       les Escaldes               Andorra Escaldes-Engordany  3040051\n",
       "0  Andorra la Vella               Andorra   Andorra la Vella  3041563\n",
       "1    Umm al Qaywayn  United Arab Emirates     Umm al Qaywayn   290594\n",
       "2    Ras al-Khaimah  United Arab Emirates    Raʼs al Khaymah   291074\n",
       "3      Khawr Fakkān  United Arab Emirates       Ash Shāriqah   291696\n",
       "4             Dubai  United Arab Emirates              Dubai   292223"
      ]
     },
     "execution_count": 128,
     "metadata": {},
     "output_type": "execute_result"
    }
   ],
   "source": [
    "df = pd.read_csv(fp ,sep=\"|\")\n",
    "df.head()"
   ]
  },
  {
   "cell_type": "code",
   "execution_count": 129,
   "metadata": {},
   "outputs": [
    {
     "name": "stdout",
     "output_type": "stream",
     "text": [
      "https://bit.ly/bitcoin-data\n"
     ]
    }
   ],
   "source": [
    "fp = \"https://bit.ly/bitcoin-data\"\n",
    "print(fp)"
   ]
  },
  {
   "cell_type": "markdown",
   "metadata": {},
   "source": []
  },
  {
   "cell_type": "code",
   "execution_count": 130,
   "metadata": {},
   "outputs": [
    {
     "name": "stderr",
     "output_type": "stream",
     "text": [
      "/var/folders/sv/nvyrkmfj1bjb805g76mpfkyw0000gp/T/ipykernel_11296/3009901075.py:1: ParserWarning: Falling back to the 'python' engine because the 'c' engine does not support skipfooter; you can avoid this warning by specifying engine='python'.\n",
      "  df = pd.read_csv(fp,skipfooter=2)\n"
     ]
    },
    {
     "data": {
      "text/html": [
       "<div>\n",
       "<style scoped>\n",
       "    .dataframe tbody tr th:only-of-type {\n",
       "        vertical-align: middle;\n",
       "    }\n",
       "\n",
       "    .dataframe tbody tr th {\n",
       "        vertical-align: top;\n",
       "    }\n",
       "\n",
       "    .dataframe thead th {\n",
       "        text-align: right;\n",
       "    }\n",
       "</style>\n",
       "<table border=\"1\" class=\"dataframe\">\n",
       "  <thead>\n",
       "    <tr style=\"text-align: right;\">\n",
       "      <th></th>\n",
       "      <th>Date</th>\n",
       "      <th>Open*</th>\n",
       "      <th>High</th>\n",
       "      <th>Low</th>\n",
       "      <th>Close**</th>\n",
       "      <th>Volume</th>\n",
       "      <th>Market Cap</th>\n",
       "    </tr>\n",
       "  </thead>\n",
       "  <tbody>\n",
       "    <tr>\n",
       "      <th>0</th>\n",
       "      <td>Jan 14 2020</td>\n",
       "      <td>8140.93</td>\n",
       "      <td>8879.51</td>\n",
       "      <td>8140.93</td>\n",
       "      <td>8827.76</td>\n",
       "      <td>44841784107</td>\n",
       "      <td>160319484883</td>\n",
       "    </tr>\n",
       "    <tr>\n",
       "      <th>1</th>\n",
       "      <td>Jan 13 2020</td>\n",
       "      <td>8189.77</td>\n",
       "      <td>8197.79</td>\n",
       "      <td>8079.70</td>\n",
       "      <td>8144.19</td>\n",
       "      <td>22482910688</td>\n",
       "      <td>147890525973</td>\n",
       "    </tr>\n",
       "    <tr>\n",
       "      <th>2</th>\n",
       "      <td>Jan 12 2020</td>\n",
       "      <td>8033.26</td>\n",
       "      <td>8200.06</td>\n",
       "      <td>8009.06</td>\n",
       "      <td>8192.49</td>\n",
       "      <td>22903438381</td>\n",
       "      <td>148752956966</td>\n",
       "    </tr>\n",
       "    <tr>\n",
       "      <th>3</th>\n",
       "      <td>Jan 11 2020</td>\n",
       "      <td>8162.19</td>\n",
       "      <td>8218.36</td>\n",
       "      <td>8029.64</td>\n",
       "      <td>8037.54</td>\n",
       "      <td>25521165085</td>\n",
       "      <td>145924199942</td>\n",
       "    </tr>\n",
       "    <tr>\n",
       "      <th>4</th>\n",
       "      <td>Jan 10 2020</td>\n",
       "      <td>7878.31</td>\n",
       "      <td>8166.55</td>\n",
       "      <td>7726.77</td>\n",
       "      <td>8166.55</td>\n",
       "      <td>28714583844</td>\n",
       "      <td>148249907277</td>\n",
       "    </tr>\n",
       "  </tbody>\n",
       "</table>\n",
       "</div>"
      ],
      "text/plain": [
       "          Date    Open*     High      Low  Close**       Volume    Market Cap\n",
       "0  Jan 14 2020  8140.93  8879.51  8140.93  8827.76  44841784107  160319484883\n",
       "1  Jan 13 2020  8189.77  8197.79  8079.70  8144.19  22482910688  147890525973\n",
       "2  Jan 12 2020  8033.26  8200.06  8009.06  8192.49  22903438381  148752956966\n",
       "3  Jan 11 2020  8162.19  8218.36  8029.64  8037.54  25521165085  145924199942\n",
       "4  Jan 10 2020  7878.31  8166.55  7726.77  8166.55  28714583844  148249907277"
      ]
     },
     "execution_count": 130,
     "metadata": {},
     "output_type": "execute_result"
    }
   ],
   "source": [
    "df = pd.read_csv(fp,skipfooter=2)\n",
    "df.head()"
   ]
  },
  {
   "cell_type": "code",
   "execution_count": 131,
   "metadata": {},
   "outputs": [
    {
     "data": {
      "text/plain": [
       "Date          0\n",
       "Open*         0\n",
       "High          0\n",
       "Low           0\n",
       "Close**       0\n",
       "Volume        0\n",
       "Market Cap    0\n",
       "dtype: int64"
      ]
     },
     "execution_count": 131,
     "metadata": {},
     "output_type": "execute_result"
    }
   ],
   "source": [
    "df.isna().sum()"
   ]
  },
  {
   "cell_type": "code",
   "execution_count": 132,
   "metadata": {},
   "outputs": [
    {
     "data": {
      "text/html": [
       "<div>\n",
       "<style scoped>\n",
       "    .dataframe tbody tr th:only-of-type {\n",
       "        vertical-align: middle;\n",
       "    }\n",
       "\n",
       "    .dataframe tbody tr th {\n",
       "        vertical-align: top;\n",
       "    }\n",
       "\n",
       "    .dataframe thead th {\n",
       "        text-align: right;\n",
       "    }\n",
       "</style>\n",
       "<table border=\"1\" class=\"dataframe\">\n",
       "  <thead>\n",
       "    <tr style=\"text-align: right;\">\n",
       "      <th></th>\n",
       "      <th>Date</th>\n",
       "      <th>Open</th>\n",
       "      <th>High</th>\n",
       "      <th>Low</th>\n",
       "      <th>Close</th>\n",
       "      <th>Volume</th>\n",
       "      <th>Market Cap</th>\n",
       "    </tr>\n",
       "  </thead>\n",
       "  <tbody>\n",
       "    <tr>\n",
       "      <th>0</th>\n",
       "      <td>Jan 14 2020</td>\n",
       "      <td>8140.93</td>\n",
       "      <td>8879.51</td>\n",
       "      <td>8140.93</td>\n",
       "      <td>8827.76</td>\n",
       "      <td>44841784107</td>\n",
       "      <td>160319484883</td>\n",
       "    </tr>\n",
       "    <tr>\n",
       "      <th>1</th>\n",
       "      <td>Jan 13 2020</td>\n",
       "      <td>8189.77</td>\n",
       "      <td>8197.79</td>\n",
       "      <td>8079.70</td>\n",
       "      <td>8144.19</td>\n",
       "      <td>22482910688</td>\n",
       "      <td>147890525973</td>\n",
       "    </tr>\n",
       "    <tr>\n",
       "      <th>2</th>\n",
       "      <td>Jan 12 2020</td>\n",
       "      <td>8033.26</td>\n",
       "      <td>8200.06</td>\n",
       "      <td>8009.06</td>\n",
       "      <td>8192.49</td>\n",
       "      <td>22903438381</td>\n",
       "      <td>148752956966</td>\n",
       "    </tr>\n",
       "    <tr>\n",
       "      <th>3</th>\n",
       "      <td>Jan 11 2020</td>\n",
       "      <td>8162.19</td>\n",
       "      <td>8218.36</td>\n",
       "      <td>8029.64</td>\n",
       "      <td>8037.54</td>\n",
       "      <td>25521165085</td>\n",
       "      <td>145924199942</td>\n",
       "    </tr>\n",
       "    <tr>\n",
       "      <th>4</th>\n",
       "      <td>Jan 10 2020</td>\n",
       "      <td>7878.31</td>\n",
       "      <td>8166.55</td>\n",
       "      <td>7726.77</td>\n",
       "      <td>8166.55</td>\n",
       "      <td>28714583844</td>\n",
       "      <td>148249907277</td>\n",
       "    </tr>\n",
       "  </tbody>\n",
       "</table>\n",
       "</div>"
      ],
      "text/plain": [
       "          Date     Open     High      Low    Close       Volume    Market Cap\n",
       "0  Jan 14 2020  8140.93  8879.51  8140.93  8827.76  44841784107  160319484883\n",
       "1  Jan 13 2020  8189.77  8197.79  8079.70  8144.19  22482910688  147890525973\n",
       "2  Jan 12 2020  8033.26  8200.06  8009.06  8192.49  22903438381  148752956966\n",
       "3  Jan 11 2020  8162.19  8218.36  8029.64  8037.54  25521165085  145924199942\n",
       "4  Jan 10 2020  7878.31  8166.55  7726.77  8166.55  28714583844  148249907277"
      ]
     },
     "execution_count": 132,
     "metadata": {},
     "output_type": "execute_result"
    }
   ],
   "source": [
    "df = df.rename(columns = {\"Open*\":\"Open\",\"Close**\":\"Close\"})\n",
    "df.head()"
   ]
  },
  {
   "cell_type": "code",
   "execution_count": 133,
   "metadata": {},
   "outputs": [
    {
     "name": "stdout",
     "output_type": "stream",
     "text": [
      "https://bit.ly/bitcoin-data\n"
     ]
    },
    {
     "data": {
      "text/html": [
       "<div>\n",
       "<style scoped>\n",
       "    .dataframe tbody tr th:only-of-type {\n",
       "        vertical-align: middle;\n",
       "    }\n",
       "\n",
       "    .dataframe tbody tr th {\n",
       "        vertical-align: top;\n",
       "    }\n",
       "\n",
       "    .dataframe thead th {\n",
       "        text-align: right;\n",
       "    }\n",
       "</style>\n",
       "<table border=\"1\" class=\"dataframe\">\n",
       "  <thead>\n",
       "    <tr style=\"text-align: right;\">\n",
       "      <th></th>\n",
       "      <th>Date</th>\n",
       "      <th>Open*</th>\n",
       "      <th>High</th>\n",
       "      <th>Low</th>\n",
       "      <th>Close**</th>\n",
       "      <th>Volume</th>\n",
       "      <th>Market Cap</th>\n",
       "    </tr>\n",
       "  </thead>\n",
       "  <tbody>\n",
       "    <tr>\n",
       "      <th>0</th>\n",
       "      <td>Jan 14 2020</td>\n",
       "      <td>8140.93</td>\n",
       "      <td>8879.51</td>\n",
       "      <td>8140.93</td>\n",
       "      <td>8827.76</td>\n",
       "      <td>4.484178e+10</td>\n",
       "      <td>1.603195e+11</td>\n",
       "    </tr>\n",
       "    <tr>\n",
       "      <th>1</th>\n",
       "      <td>Jan 13 2020</td>\n",
       "      <td>8189.77</td>\n",
       "      <td>8197.79</td>\n",
       "      <td>8079.70</td>\n",
       "      <td>8144.19</td>\n",
       "      <td>2.248291e+10</td>\n",
       "      <td>1.478905e+11</td>\n",
       "    </tr>\n",
       "  </tbody>\n",
       "</table>\n",
       "</div>"
      ],
      "text/plain": [
       "          Date    Open*     High      Low  Close**        Volume    Market Cap\n",
       "0  Jan 14 2020  8140.93  8879.51  8140.93  8827.76  4.484178e+10  1.603195e+11\n",
       "1  Jan 13 2020  8189.77  8197.79  8079.70  8144.19  2.248291e+10  1.478905e+11"
      ]
     },
     "execution_count": 133,
     "metadata": {},
     "output_type": "execute_result"
    }
   ],
   "source": [
    "fp = \"https://bit.ly/bitcoin-data\"\n",
    "print(fp)\n",
    "df = pd.read_csv(fp)\n",
    "df.head(2)"
   ]
  },
  {
   "cell_type": "code",
   "execution_count": 134,
   "metadata": {},
   "outputs": [],
   "source": [
    "def sans_Espace(s):\n",
    "    if \" \" in s:\n",
    "        return s.replace(' ','_')\n",
    "    elif \"*\" in s:\n",
    "        return s.replace(\"*\",'')\n",
    "    else:\n",
    "        return s"
   ]
  },
  {
   "cell_type": "code",
   "execution_count": 135,
   "metadata": {},
   "outputs": [
    {
     "data": {
      "text/html": [
       "<div>\n",
       "<style scoped>\n",
       "    .dataframe tbody tr th:only-of-type {\n",
       "        vertical-align: middle;\n",
       "    }\n",
       "\n",
       "    .dataframe tbody tr th {\n",
       "        vertical-align: top;\n",
       "    }\n",
       "\n",
       "    .dataframe thead th {\n",
       "        text-align: right;\n",
       "    }\n",
       "</style>\n",
       "<table border=\"1\" class=\"dataframe\">\n",
       "  <thead>\n",
       "    <tr style=\"text-align: right;\">\n",
       "      <th></th>\n",
       "      <th>Date</th>\n",
       "      <th>Open</th>\n",
       "      <th>High</th>\n",
       "      <th>Low</th>\n",
       "      <th>Close</th>\n",
       "      <th>Volume</th>\n",
       "      <th>Market_Cap</th>\n",
       "    </tr>\n",
       "  </thead>\n",
       "  <tbody>\n",
       "    <tr>\n",
       "      <th>0</th>\n",
       "      <td>Jan 14 2020</td>\n",
       "      <td>8140.93</td>\n",
       "      <td>8879.51</td>\n",
       "      <td>8140.93</td>\n",
       "      <td>8827.76</td>\n",
       "      <td>4.484178e+10</td>\n",
       "      <td>1.603195e+11</td>\n",
       "    </tr>\n",
       "    <tr>\n",
       "      <th>1</th>\n",
       "      <td>Jan 13 2020</td>\n",
       "      <td>8189.77</td>\n",
       "      <td>8197.79</td>\n",
       "      <td>8079.70</td>\n",
       "      <td>8144.19</td>\n",
       "      <td>2.248291e+10</td>\n",
       "      <td>1.478905e+11</td>\n",
       "    </tr>\n",
       "    <tr>\n",
       "      <th>2</th>\n",
       "      <td>Jan 12 2020</td>\n",
       "      <td>8033.26</td>\n",
       "      <td>8200.06</td>\n",
       "      <td>8009.06</td>\n",
       "      <td>8192.49</td>\n",
       "      <td>2.290344e+10</td>\n",
       "      <td>1.487530e+11</td>\n",
       "    </tr>\n",
       "  </tbody>\n",
       "</table>\n",
       "</div>"
      ],
      "text/plain": [
       "          Date     Open     High      Low    Close        Volume    Market_Cap\n",
       "0  Jan 14 2020  8140.93  8879.51  8140.93  8827.76  4.484178e+10  1.603195e+11\n",
       "1  Jan 13 2020  8189.77  8197.79  8079.70  8144.19  2.248291e+10  1.478905e+11\n",
       "2  Jan 12 2020  8033.26  8200.06  8009.06  8192.49  2.290344e+10  1.487530e+11"
      ]
     },
     "execution_count": 135,
     "metadata": {},
     "output_type": "execute_result"
    }
   ],
   "source": [
    "df2 = df.rename(sans_Espace , axis = \"columns\")\n",
    "df2.head(3)"
   ]
  },
  {
   "cell_type": "code",
   "execution_count": 136,
   "metadata": {},
   "outputs": [
    {
     "name": "stdout",
     "output_type": "stream",
     "text": [
      "https://bit.ly/bitcoin-purchases\n"
     ]
    }
   ],
   "source": [
    "fp = 'https://bit.ly/bitcoin-purchases'\n",
    "print(fp)"
   ]
  },
  {
   "cell_type": "code",
   "execution_count": 137,
   "metadata": {},
   "outputs": [
    {
     "data": {
      "text/html": [
       "<div>\n",
       "<style scoped>\n",
       "    .dataframe tbody tr th:only-of-type {\n",
       "        vertical-align: middle;\n",
       "    }\n",
       "\n",
       "    .dataframe tbody tr th {\n",
       "        vertical-align: top;\n",
       "    }\n",
       "\n",
       "    .dataframe thead th {\n",
       "        text-align: right;\n",
       "    }\n",
       "</style>\n",
       "<table border=\"1\" class=\"dataframe\">\n",
       "  <thead>\n",
       "    <tr style=\"text-align: right;\">\n",
       "      <th></th>\n",
       "      <th>bitcoin address</th>\n",
       "      <th>wire amount</th>\n",
       "      <th>credit card</th>\n",
       "    </tr>\n",
       "  </thead>\n",
       "  <tbody>\n",
       "    <tr>\n",
       "      <th>0</th>\n",
       "      <td>1HeUNvQfhjn8afvjMrMEX5VQB5zy8AacXZ</td>\n",
       "      <td>$2268.82</td>\n",
       "      <td>6759241310493014168</td>\n",
       "    </tr>\n",
       "    <tr>\n",
       "      <th>1</th>\n",
       "      <td>18xA8uEzQsEQpyfJWrrLmnu72ut7p2GgeU</td>\n",
       "      <td>$4590.27</td>\n",
       "      <td>6394078189900621</td>\n",
       "    </tr>\n",
       "    <tr>\n",
       "      <th>2</th>\n",
       "      <td>1CPLebXd6VKdEmD6xsVByYDbsyhkZ4XzrE</td>\n",
       "      <td>$6160.48</td>\n",
       "      <td>3539006321388994</td>\n",
       "    </tr>\n",
       "    <tr>\n",
       "      <th>3</th>\n",
       "      <td>1ESn9zPPwAExS98jqhjkDPd7tGeoevL42u</td>\n",
       "      <td>$6647.19</td>\n",
       "      <td>3560801557252993</td>\n",
       "    </tr>\n",
       "    <tr>\n",
       "      <th>4</th>\n",
       "      <td>1JLYsDExCUsEPrN6vNsEgJubJE4xqWtqhp</td>\n",
       "      <td>$3759.40</td>\n",
       "      <td>5349906235596126</td>\n",
       "    </tr>\n",
       "    <tr>\n",
       "      <th>...</th>\n",
       "      <td>...</td>\n",
       "      <td>...</td>\n",
       "      <td>...</td>\n",
       "    </tr>\n",
       "    <tr>\n",
       "      <th>995</th>\n",
       "      <td>138k9bHDuCABrp62m3jx7qN7GpLmH1tau1</td>\n",
       "      <td>$8777.99</td>\n",
       "      <td>6395533880416383</td>\n",
       "    </tr>\n",
       "    <tr>\n",
       "      <th>996</th>\n",
       "      <td>133bMbCx4XumvjzZCctexFdWFtc8AVe92T</td>\n",
       "      <td>$7614.59</td>\n",
       "      <td>5100136128250214</td>\n",
       "    </tr>\n",
       "    <tr>\n",
       "      <th>997</th>\n",
       "      <td>1EbNemXSs9jnJuTHg3JFs3sVsCpMVmkZzg</td>\n",
       "      <td>$1710.21</td>\n",
       "      <td>4911312234445162581</td>\n",
       "    </tr>\n",
       "    <tr>\n",
       "      <th>998</th>\n",
       "      <td>1ACsxcM3utWGaGtTKBndk7S68KX7bMQCaX</td>\n",
       "      <td>$5240.64</td>\n",
       "      <td>5038080137024268375</td>\n",
       "    </tr>\n",
       "    <tr>\n",
       "      <th>999</th>\n",
       "      <td>16PZEa57oL1MEMECPRYf8bwPAttqtuSaVj</td>\n",
       "      <td>$5672.95</td>\n",
       "      <td>4903401043022953</td>\n",
       "    </tr>\n",
       "  </tbody>\n",
       "</table>\n",
       "<p>1000 rows × 3 columns</p>\n",
       "</div>"
      ],
      "text/plain": [
       "                        bitcoin address wire amount          credit card\n",
       "0    1HeUNvQfhjn8afvjMrMEX5VQB5zy8AacXZ    $2268.82  6759241310493014168\n",
       "1    18xA8uEzQsEQpyfJWrrLmnu72ut7p2GgeU    $4590.27     6394078189900621\n",
       "2    1CPLebXd6VKdEmD6xsVByYDbsyhkZ4XzrE    $6160.48     3539006321388994\n",
       "3    1ESn9zPPwAExS98jqhjkDPd7tGeoevL42u    $6647.19     3560801557252993\n",
       "4    1JLYsDExCUsEPrN6vNsEgJubJE4xqWtqhp    $3759.40     5349906235596126\n",
       "..                                  ...         ...                  ...\n",
       "995  138k9bHDuCABrp62m3jx7qN7GpLmH1tau1    $8777.99     6395533880416383\n",
       "996  133bMbCx4XumvjzZCctexFdWFtc8AVe92T    $7614.59     5100136128250214\n",
       "997  1EbNemXSs9jnJuTHg3JFs3sVsCpMVmkZzg    $1710.21  4911312234445162581\n",
       "998  1ACsxcM3utWGaGtTKBndk7S68KX7bMQCaX    $5240.64  5038080137024268375\n",
       "999  16PZEa57oL1MEMECPRYf8bwPAttqtuSaVj    $5672.95     4903401043022953\n",
       "\n",
       "[1000 rows x 3 columns]"
      ]
     },
     "execution_count": 137,
     "metadata": {},
     "output_type": "execute_result"
    }
   ],
   "source": [
    "df = pd.read_csv(fp)\n",
    "df"
   ]
  },
  {
   "cell_type": "code",
   "execution_count": 138,
   "metadata": {},
   "outputs": [
    {
     "data": {
      "text/plain": [
       "(1000, 3)"
      ]
     },
     "execution_count": 138,
     "metadata": {},
     "output_type": "execute_result"
    }
   ],
   "source": [
    "df.shape"
   ]
  },
  {
   "cell_type": "code",
   "execution_count": 142,
   "metadata": {},
   "outputs": [],
   "source": [
    "df[\"wire amount\"] = df[\"wire amount\"].str.replace(\"$\",\"\").astype(float)"
   ]
  },
  {
   "cell_type": "code",
   "execution_count": 143,
   "metadata": {},
   "outputs": [
    {
     "data": {
      "text/html": [
       "<div>\n",
       "<style scoped>\n",
       "    .dataframe tbody tr th:only-of-type {\n",
       "        vertical-align: middle;\n",
       "    }\n",
       "\n",
       "    .dataframe tbody tr th {\n",
       "        vertical-align: top;\n",
       "    }\n",
       "\n",
       "    .dataframe thead th {\n",
       "        text-align: right;\n",
       "    }\n",
       "</style>\n",
       "<table border=\"1\" class=\"dataframe\">\n",
       "  <thead>\n",
       "    <tr style=\"text-align: right;\">\n",
       "      <th></th>\n",
       "      <th>bitcoin address</th>\n",
       "      <th>wire amount</th>\n",
       "      <th>credit card</th>\n",
       "    </tr>\n",
       "  </thead>\n",
       "  <tbody>\n",
       "    <tr>\n",
       "      <th>0</th>\n",
       "      <td>1HeUNvQfhjn8afvjMrMEX5VQB5zy8AacXZ</td>\n",
       "      <td>2268.82</td>\n",
       "      <td>6759241310493014168</td>\n",
       "    </tr>\n",
       "    <tr>\n",
       "      <th>1</th>\n",
       "      <td>18xA8uEzQsEQpyfJWrrLmnu72ut7p2GgeU</td>\n",
       "      <td>4590.27</td>\n",
       "      <td>6394078189900621</td>\n",
       "    </tr>\n",
       "    <tr>\n",
       "      <th>2</th>\n",
       "      <td>1CPLebXd6VKdEmD6xsVByYDbsyhkZ4XzrE</td>\n",
       "      <td>6160.48</td>\n",
       "      <td>3539006321388994</td>\n",
       "    </tr>\n",
       "  </tbody>\n",
       "</table>\n",
       "</div>"
      ],
      "text/plain": [
       "                      bitcoin address  wire amount          credit card\n",
       "0  1HeUNvQfhjn8afvjMrMEX5VQB5zy8AacXZ      2268.82  6759241310493014168\n",
       "1  18xA8uEzQsEQpyfJWrrLmnu72ut7p2GgeU      4590.27     6394078189900621\n",
       "2  1CPLebXd6VKdEmD6xsVByYDbsyhkZ4XzrE      6160.48     3539006321388994"
      ]
     },
     "execution_count": 143,
     "metadata": {},
     "output_type": "execute_result"
    }
   ],
   "source": [
    "df.head(3)"
   ]
  },
  {
   "cell_type": "code",
   "execution_count": 144,
   "metadata": {},
   "outputs": [
    {
     "data": {
      "text/plain": [
       "5007.044379999999"
      ]
     },
     "execution_count": 144,
     "metadata": {},
     "output_type": "execute_result"
    }
   ],
   "source": [
    "df[\"wire amount\"].mean()"
   ]
  },
  {
   "cell_type": "code",
   "execution_count": 145,
   "metadata": {},
   "outputs": [
    {
     "data": {
      "text/plain": [
       "bitcoin address     object\n",
       "wire amount        float64\n",
       "credit card          int64\n",
       "dtype: object"
      ]
     },
     "execution_count": 145,
     "metadata": {},
     "output_type": "execute_result"
    }
   ],
   "source": [
    "df.dtypes"
   ]
  },
  {
   "cell_type": "code",
   "execution_count": 148,
   "metadata": {},
   "outputs": [
    {
     "name": "stdout",
     "output_type": "stream",
     "text": [
      "https://bit.ly/bitcoin-purchases2\n"
     ]
    }
   ],
   "source": [
    "fp = 'https://bit.ly/bitcoin-purchases2'\n",
    "print(fp)"
   ]
  },
  {
   "cell_type": "code",
   "execution_count": 149,
   "metadata": {},
   "outputs": [
    {
     "data": {
      "text/html": [
       "<div>\n",
       "<style scoped>\n",
       "    .dataframe tbody tr th:only-of-type {\n",
       "        vertical-align: middle;\n",
       "    }\n",
       "\n",
       "    .dataframe tbody tr th {\n",
       "        vertical-align: top;\n",
       "    }\n",
       "\n",
       "    .dataframe thead th {\n",
       "        text-align: right;\n",
       "    }\n",
       "</style>\n",
       "<table border=\"1\" class=\"dataframe\">\n",
       "  <thead>\n",
       "    <tr style=\"text-align: right;\">\n",
       "      <th></th>\n",
       "      <th>bitcoin address</th>\n",
       "      <th>wire amount</th>\n",
       "      <th>credit card</th>\n",
       "    </tr>\n",
       "  </thead>\n",
       "  <tbody>\n",
       "    <tr>\n",
       "      <th>0</th>\n",
       "      <td>1J9DVMtgvnPv4KGHL2XSzoTSt5cBBL1DXe</td>\n",
       "      <td>£8356.92</td>\n",
       "      <td>3543456448666398</td>\n",
       "    </tr>\n",
       "    <tr>\n",
       "      <th>1</th>\n",
       "      <td>1HaiVQbzCTs7t1K1fckYEUi9t8ERBFRR7Q</td>\n",
       "      <td>€311,06</td>\n",
       "      <td>3584615208479876</td>\n",
       "    </tr>\n",
       "    <tr>\n",
       "      <th>2</th>\n",
       "      <td>1NGPjXfDScEUSZYajAzCkxaVApTbBHC7jP</td>\n",
       "      <td>€2032,44</td>\n",
       "      <td>6370577480710876</td>\n",
       "    </tr>\n",
       "    <tr>\n",
       "      <th>3</th>\n",
       "      <td>15cSYRTbcrxYinxNxk7VbkPLZG8nypdjy6</td>\n",
       "      <td>¥8155.74</td>\n",
       "      <td>4508652385157398</td>\n",
       "    </tr>\n",
       "    <tr>\n",
       "      <th>4</th>\n",
       "      <td>18j2qG1DH9YduJiBiccAq8Ak897G3E4JyZ</td>\n",
       "      <td>£3265.44</td>\n",
       "      <td>374622922103592</td>\n",
       "    </tr>\n",
       "    <tr>\n",
       "      <th>...</th>\n",
       "      <td>...</td>\n",
       "      <td>...</td>\n",
       "      <td>...</td>\n",
       "    </tr>\n",
       "    <tr>\n",
       "      <th>995</th>\n",
       "      <td>1Jmz4FMQENDkrtkivVdXM8SiC6ZCJVTDhp</td>\n",
       "      <td>¥844.68</td>\n",
       "      <td>5541649583285688</td>\n",
       "    </tr>\n",
       "    <tr>\n",
       "      <th>996</th>\n",
       "      <td>1GCZKgPV9277czn1RsTYoubCwhbndUvPZU</td>\n",
       "      <td>€1433,63</td>\n",
       "      <td>6304232254235660027</td>\n",
       "    </tr>\n",
       "    <tr>\n",
       "      <th>997</th>\n",
       "      <td>1LK2DsWBUmSAsqg7n46sdgg4v2SNrqEPM</td>\n",
       "      <td>€3814,11</td>\n",
       "      <td>3546750658508135</td>\n",
       "    </tr>\n",
       "    <tr>\n",
       "      <th>998</th>\n",
       "      <td>1PD6oNfFEnxMsR1PvUvkjHQdHYLCewLJhq</td>\n",
       "      <td>$2900.85</td>\n",
       "      <td>6333272716093574938</td>\n",
       "    </tr>\n",
       "    <tr>\n",
       "      <th>999</th>\n",
       "      <td>1B2vk6p7usuV4dfrBMLo8Rzpb5NatTmE8R</td>\n",
       "      <td>$1587.16</td>\n",
       "      <td>4913614335644981</td>\n",
       "    </tr>\n",
       "  </tbody>\n",
       "</table>\n",
       "<p>1000 rows × 3 columns</p>\n",
       "</div>"
      ],
      "text/plain": [
       "                        bitcoin address wire amount          credit card\n",
       "0    1J9DVMtgvnPv4KGHL2XSzoTSt5cBBL1DXe    £8356.92     3543456448666398\n",
       "1    1HaiVQbzCTs7t1K1fckYEUi9t8ERBFRR7Q     €311,06     3584615208479876\n",
       "2    1NGPjXfDScEUSZYajAzCkxaVApTbBHC7jP    €2032,44     6370577480710876\n",
       "3    15cSYRTbcrxYinxNxk7VbkPLZG8nypdjy6    ¥8155.74     4508652385157398\n",
       "4    18j2qG1DH9YduJiBiccAq8Ak897G3E4JyZ    £3265.44      374622922103592\n",
       "..                                  ...         ...                  ...\n",
       "995  1Jmz4FMQENDkrtkivVdXM8SiC6ZCJVTDhp     ¥844.68     5541649583285688\n",
       "996  1GCZKgPV9277czn1RsTYoubCwhbndUvPZU    €1433,63  6304232254235660027\n",
       "997   1LK2DsWBUmSAsqg7n46sdgg4v2SNrqEPM    €3814,11     3546750658508135\n",
       "998  1PD6oNfFEnxMsR1PvUvkjHQdHYLCewLJhq    $2900.85  6333272716093574938\n",
       "999  1B2vk6p7usuV4dfrBMLo8Rzpb5NatTmE8R    $1587.16     4913614335644981\n",
       "\n",
       "[1000 rows x 3 columns]"
      ]
     },
     "execution_count": 149,
     "metadata": {},
     "output_type": "execute_result"
    }
   ],
   "source": [
    "df = pd.read_csv(fp)\n",
    "df"
   ]
  },
  {
   "cell_type": "code",
   "execution_count": 156,
   "metadata": {},
   "outputs": [],
   "source": [
    "df[\"wire amount\"]=df[\"wire amount\"].str.replace(r'[^\\d.]', '', regex=True)"
   ]
  },
  {
   "cell_type": "code",
   "execution_count": 157,
   "metadata": {},
   "outputs": [
    {
     "data": {
      "text/html": [
       "<div>\n",
       "<style scoped>\n",
       "    .dataframe tbody tr th:only-of-type {\n",
       "        vertical-align: middle;\n",
       "    }\n",
       "\n",
       "    .dataframe tbody tr th {\n",
       "        vertical-align: top;\n",
       "    }\n",
       "\n",
       "    .dataframe thead th {\n",
       "        text-align: right;\n",
       "    }\n",
       "</style>\n",
       "<table border=\"1\" class=\"dataframe\">\n",
       "  <thead>\n",
       "    <tr style=\"text-align: right;\">\n",
       "      <th></th>\n",
       "      <th>bitcoin address</th>\n",
       "      <th>wire amount</th>\n",
       "      <th>credit card</th>\n",
       "    </tr>\n",
       "  </thead>\n",
       "  <tbody>\n",
       "    <tr>\n",
       "      <th>0</th>\n",
       "      <td>1J9DVMtgvnPv4KGHL2XSzoTSt5cBBL1DXe</td>\n",
       "      <td>8356.92</td>\n",
       "      <td>3543456448666398</td>\n",
       "    </tr>\n",
       "    <tr>\n",
       "      <th>1</th>\n",
       "      <td>1HaiVQbzCTs7t1K1fckYEUi9t8ERBFRR7Q</td>\n",
       "      <td>31106</td>\n",
       "      <td>3584615208479876</td>\n",
       "    </tr>\n",
       "    <tr>\n",
       "      <th>2</th>\n",
       "      <td>1NGPjXfDScEUSZYajAzCkxaVApTbBHC7jP</td>\n",
       "      <td>203244</td>\n",
       "      <td>6370577480710876</td>\n",
       "    </tr>\n",
       "    <tr>\n",
       "      <th>3</th>\n",
       "      <td>15cSYRTbcrxYinxNxk7VbkPLZG8nypdjy6</td>\n",
       "      <td>8155.74</td>\n",
       "      <td>4508652385157398</td>\n",
       "    </tr>\n",
       "    <tr>\n",
       "      <th>4</th>\n",
       "      <td>18j2qG1DH9YduJiBiccAq8Ak897G3E4JyZ</td>\n",
       "      <td>3265.44</td>\n",
       "      <td>374622922103592</td>\n",
       "    </tr>\n",
       "  </tbody>\n",
       "</table>\n",
       "</div>"
      ],
      "text/plain": [
       "                      bitcoin address wire amount       credit card\n",
       "0  1J9DVMtgvnPv4KGHL2XSzoTSt5cBBL1DXe     8356.92  3543456448666398\n",
       "1  1HaiVQbzCTs7t1K1fckYEUi9t8ERBFRR7Q       31106  3584615208479876\n",
       "2  1NGPjXfDScEUSZYajAzCkxaVApTbBHC7jP      203244  6370577480710876\n",
       "3  15cSYRTbcrxYinxNxk7VbkPLZG8nypdjy6     8155.74  4508652385157398\n",
       "4  18j2qG1DH9YduJiBiccAq8Ak897G3E4JyZ     3265.44   374622922103592"
      ]
     },
     "execution_count": 157,
     "metadata": {},
     "output_type": "execute_result"
    }
   ],
   "source": [
    "df.head()"
   ]
  },
  {
   "cell_type": "code",
   "execution_count": 160,
   "metadata": {},
   "outputs": [
    {
     "data": {
      "text/plain": [
       "bitcoin address     object\n",
       "wire amount        float64\n",
       "credit card          int64\n",
       "dtype: object"
      ]
     },
     "execution_count": 160,
     "metadata": {},
     "output_type": "execute_result"
    }
   ],
   "source": [
    "df.dtypes"
   ]
  },
  {
   "cell_type": "code",
   "execution_count": 159,
   "metadata": {},
   "outputs": [],
   "source": [
    "df['wire amount'] = df['wire amount'].str.replace(',',\".\").astype(\"float\")"
   ]
  },
  {
   "cell_type": "code",
   "execution_count": 161,
   "metadata": {},
   "outputs": [
    {
     "name": "stdout",
     "output_type": "stream",
     "text": [
      "https://bit.ly/felonies-dataset\n"
     ]
    }
   ],
   "source": [
    "fp = 'https://bit.ly/felonies-dataset'\n",
    "print(fp)"
   ]
  },
  {
   "cell_type": "code",
   "execution_count": 162,
   "metadata": {},
   "outputs": [
    {
     "data": {
      "text/html": [
       "<div>\n",
       "<style scoped>\n",
       "    .dataframe tbody tr th:only-of-type {\n",
       "        vertical-align: middle;\n",
       "    }\n",
       "\n",
       "    .dataframe tbody tr th {\n",
       "        vertical-align: top;\n",
       "    }\n",
       "\n",
       "    .dataframe thead th {\n",
       "        text-align: right;\n",
       "    }\n",
       "</style>\n",
       "<table border=\"1\" class=\"dataframe\">\n",
       "  <thead>\n",
       "    <tr style=\"text-align: right;\">\n",
       "      <th></th>\n",
       "      <th>Date of Arrest</th>\n",
       "      <th>Age</th>\n",
       "      <th>Convicted</th>\n",
       "    </tr>\n",
       "  </thead>\n",
       "  <tbody>\n",
       "    <tr>\n",
       "      <th>0</th>\n",
       "      <td>2014-07-16 14:59:18</td>\n",
       "      <td>77</td>\n",
       "      <td>Yes</td>\n",
       "    </tr>\n",
       "    <tr>\n",
       "      <th>1</th>\n",
       "      <td>2002-12-19 22:17:59</td>\n",
       "      <td>28</td>\n",
       "      <td>Yes</td>\n",
       "    </tr>\n",
       "    <tr>\n",
       "      <th>2</th>\n",
       "      <td>1994-06-28 09:31:40</td>\n",
       "      <td>21</td>\n",
       "      <td>No</td>\n",
       "    </tr>\n",
       "    <tr>\n",
       "      <th>3</th>\n",
       "      <td>1985-05-14 09:52:17</td>\n",
       "      <td>45</td>\n",
       "      <td>Yes</td>\n",
       "    </tr>\n",
       "    <tr>\n",
       "      <th>4</th>\n",
       "      <td>1985-05-25 14:06:28</td>\n",
       "      <td>39</td>\n",
       "      <td>Yes</td>\n",
       "    </tr>\n",
       "    <tr>\n",
       "      <th>...</th>\n",
       "      <td>...</td>\n",
       "      <td>...</td>\n",
       "      <td>...</td>\n",
       "    </tr>\n",
       "    <tr>\n",
       "      <th>995</th>\n",
       "      <td>1992-02-04 14:24:25</td>\n",
       "      <td>72</td>\n",
       "      <td>Yes</td>\n",
       "    </tr>\n",
       "    <tr>\n",
       "      <th>996</th>\n",
       "      <td>1996-04-29 18:03:23</td>\n",
       "      <td>68</td>\n",
       "      <td>Yes</td>\n",
       "    </tr>\n",
       "    <tr>\n",
       "      <th>997</th>\n",
       "      <td>1980-07-15 21:59:27</td>\n",
       "      <td>87</td>\n",
       "      <td>Yes</td>\n",
       "    </tr>\n",
       "    <tr>\n",
       "      <th>998</th>\n",
       "      <td>1999-07-05 17:16:12</td>\n",
       "      <td>27</td>\n",
       "      <td>No</td>\n",
       "    </tr>\n",
       "    <tr>\n",
       "      <th>999</th>\n",
       "      <td>1996-03-17 18:29:25</td>\n",
       "      <td>57</td>\n",
       "      <td>Yes</td>\n",
       "    </tr>\n",
       "  </tbody>\n",
       "</table>\n",
       "<p>1000 rows × 3 columns</p>\n",
       "</div>"
      ],
      "text/plain": [
       "          Date of Arrest  Age Convicted\n",
       "0    2014-07-16 14:59:18   77       Yes\n",
       "1    2002-12-19 22:17:59   28       Yes\n",
       "2    1994-06-28 09:31:40   21        No\n",
       "3    1985-05-14 09:52:17   45       Yes\n",
       "4    1985-05-25 14:06:28   39       Yes\n",
       "..                   ...  ...       ...\n",
       "995  1992-02-04 14:24:25   72       Yes\n",
       "996  1996-04-29 18:03:23   68       Yes\n",
       "997  1980-07-15 21:59:27   87       Yes\n",
       "998  1999-07-05 17:16:12   27        No\n",
       "999  1996-03-17 18:29:25   57       Yes\n",
       "\n",
       "[1000 rows x 3 columns]"
      ]
     },
     "execution_count": 162,
     "metadata": {},
     "output_type": "execute_result"
    }
   ],
   "source": [
    "df = pd.read_csv(fp)\n",
    "df"
   ]
  },
  {
   "cell_type": "code",
   "execution_count": 163,
   "metadata": {},
   "outputs": [
    {
     "data": {
      "text/html": [
       "<div>\n",
       "<style scoped>\n",
       "    .dataframe tbody tr th:only-of-type {\n",
       "        vertical-align: middle;\n",
       "    }\n",
       "\n",
       "    .dataframe tbody tr th {\n",
       "        vertical-align: top;\n",
       "    }\n",
       "\n",
       "    .dataframe thead th {\n",
       "        text-align: right;\n",
       "    }\n",
       "</style>\n",
       "<table border=\"1\" class=\"dataframe\">\n",
       "  <thead>\n",
       "    <tr style=\"text-align: right;\">\n",
       "      <th></th>\n",
       "      <th>Date of Arrest</th>\n",
       "      <th>Age</th>\n",
       "      <th>Convicted</th>\n",
       "      <th>Age_cat</th>\n",
       "    </tr>\n",
       "  </thead>\n",
       "  <tbody>\n",
       "    <tr>\n",
       "      <th>0</th>\n",
       "      <td>2014-07-16 14:59:18</td>\n",
       "      <td>77</td>\n",
       "      <td>Yes</td>\n",
       "      <td>Senior</td>\n",
       "    </tr>\n",
       "    <tr>\n",
       "      <th>1</th>\n",
       "      <td>2002-12-19 22:17:59</td>\n",
       "      <td>28</td>\n",
       "      <td>Yes</td>\n",
       "      <td>Adulte</td>\n",
       "    </tr>\n",
       "    <tr>\n",
       "      <th>2</th>\n",
       "      <td>1994-06-28 09:31:40</td>\n",
       "      <td>21</td>\n",
       "      <td>No</td>\n",
       "      <td>Adulte</td>\n",
       "    </tr>\n",
       "    <tr>\n",
       "      <th>3</th>\n",
       "      <td>1985-05-14 09:52:17</td>\n",
       "      <td>45</td>\n",
       "      <td>Yes</td>\n",
       "      <td>Adulte</td>\n",
       "    </tr>\n",
       "    <tr>\n",
       "      <th>4</th>\n",
       "      <td>1985-05-25 14:06:28</td>\n",
       "      <td>39</td>\n",
       "      <td>Yes</td>\n",
       "      <td>Adulte</td>\n",
       "    </tr>\n",
       "    <tr>\n",
       "      <th>...</th>\n",
       "      <td>...</td>\n",
       "      <td>...</td>\n",
       "      <td>...</td>\n",
       "      <td>...</td>\n",
       "    </tr>\n",
       "    <tr>\n",
       "      <th>995</th>\n",
       "      <td>1992-02-04 14:24:25</td>\n",
       "      <td>72</td>\n",
       "      <td>Yes</td>\n",
       "      <td>Senior</td>\n",
       "    </tr>\n",
       "    <tr>\n",
       "      <th>996</th>\n",
       "      <td>1996-04-29 18:03:23</td>\n",
       "      <td>68</td>\n",
       "      <td>Yes</td>\n",
       "      <td>Senior</td>\n",
       "    </tr>\n",
       "    <tr>\n",
       "      <th>997</th>\n",
       "      <td>1980-07-15 21:59:27</td>\n",
       "      <td>87</td>\n",
       "      <td>Yes</td>\n",
       "      <td>Senior</td>\n",
       "    </tr>\n",
       "    <tr>\n",
       "      <th>998</th>\n",
       "      <td>1999-07-05 17:16:12</td>\n",
       "      <td>27</td>\n",
       "      <td>No</td>\n",
       "      <td>Adulte</td>\n",
       "    </tr>\n",
       "    <tr>\n",
       "      <th>999</th>\n",
       "      <td>1996-03-17 18:29:25</td>\n",
       "      <td>57</td>\n",
       "      <td>Yes</td>\n",
       "      <td>Adulte</td>\n",
       "    </tr>\n",
       "  </tbody>\n",
       "</table>\n",
       "<p>1000 rows × 4 columns</p>\n",
       "</div>"
      ],
      "text/plain": [
       "          Date of Arrest  Age Convicted Age_cat\n",
       "0    2014-07-16 14:59:18   77       Yes  Senior\n",
       "1    2002-12-19 22:17:59   28       Yes  Adulte\n",
       "2    1994-06-28 09:31:40   21        No  Adulte\n",
       "3    1985-05-14 09:52:17   45       Yes  Adulte\n",
       "4    1985-05-25 14:06:28   39       Yes  Adulte\n",
       "..                   ...  ...       ...     ...\n",
       "995  1992-02-04 14:24:25   72       Yes  Senior\n",
       "996  1996-04-29 18:03:23   68       Yes  Senior\n",
       "997  1980-07-15 21:59:27   87       Yes  Senior\n",
       "998  1999-07-05 17:16:12   27        No  Adulte\n",
       "999  1996-03-17 18:29:25   57       Yes  Adulte\n",
       "\n",
       "[1000 rows x 4 columns]"
      ]
     },
     "execution_count": 163,
     "metadata": {},
     "output_type": "execute_result"
    }
   ],
   "source": [
    "df[\"Age_cat\"] = pd.cut(df[\"Age\"],\n",
    "bins = [9,14,20,65,100],\n",
    "labels = ['Enfant',\"Ado\",\"Adulte\",\"Senior\"])\n",
    "df"
   ]
  }
 ],
 "metadata": {
  "kernelspec": {
   "display_name": "Python 3",
   "language": "python",
   "name": "python3"
  },
  "language_info": {
   "codemirror_mode": {
    "name": "ipython",
    "version": 3
   },
   "file_extension": ".py",
   "mimetype": "text/x-python",
   "name": "python",
   "nbconvert_exporter": "python",
   "pygments_lexer": "ipython3",
   "version": "3.9.6"
  },
  "orig_nbformat": 4
 },
 "nbformat": 4,
 "nbformat_minor": 2
}
