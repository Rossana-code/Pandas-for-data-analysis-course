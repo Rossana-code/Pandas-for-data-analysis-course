{
 "cells": [
  {
   "cell_type": "code",
   "execution_count": 1,
   "metadata": {},
   "outputs": [],
   "source": [
    "import warnings\n",
    "warnings.filterwarnings(\"ignore\")\n",
    "\n",
    "import pandas as pd\n",
    "import matplotlib.pyplot as plt\n",
    "import seaborn as sns\n",
    "import numpy as np"
   ]
  },
  {
   "cell_type": "code",
   "execution_count": 2,
   "metadata": {},
   "outputs": [],
   "source": [
    "import nltk"
   ]
  },
  {
   "cell_type": "code",
   "execution_count": 1,
   "metadata": {},
   "outputs": [
    {
     "name": "stdout",
     "output_type": "stream",
     "text": [
      "CountVectorizer()\n",
      "--------------\n"
     ]
    }
   ],
   "source": [
    "from sklearn.feature_extraction.text import CountVectorizer\n",
    "\n",
    "# Création d'un sac vide\n",
    "vectorizer = CountVectorizer()\n",
    "print(vectorizer)\n",
    "print('--------------')"
   ]
  },
  {
   "cell_type": "code",
   "execution_count": 3,
   "metadata": {},
   "outputs": [
    {
     "ename": "NameError",
     "evalue": "name 'WordCloud' is not defined",
     "output_type": "error",
     "traceback": [
      "\u001b[0;31m---------------------------------------------------------------------------\u001b[0m",
      "\u001b[0;31mNameError\u001b[0m                                 Traceback (most recent call last)",
      "\u001b[1;32m/Users/rossana/Documents/GitHub/Pandas-for-data-analysis-course/twitter_exercise.ipynb Cell 4\u001b[0m line \u001b[0;36m<cell line: 1>\u001b[0;34m()\u001b[0m\n\u001b[0;32m----> <a href='vscode-notebook-cell:/Users/rossana/Documents/GitHub/Pandas-for-data-analysis-course/twitter_exercise.ipynb#W4sZmlsZQ%3D%3D?line=0'>1</a>\u001b[0m wordcloud \u001b[39m=\u001b[39m WordCloud(width \u001b[39m=\u001b[39m \u001b[39m800\u001b[39m, height \u001b[39m=\u001b[39m \u001b[39m800\u001b[39m,\n\u001b[1;32m      <a href='vscode-notebook-cell:/Users/rossana/Documents/GitHub/Pandas-for-data-analysis-course/twitter_exercise.ipynb#W4sZmlsZQ%3D%3D?line=1'>2</a>\u001b[0m background_color \u001b[39m=\u001b[39m\u001b[39m'\u001b[39m\u001b[39mwhite\u001b[39m\u001b[39m'\u001b[39m,\n\u001b[1;32m      <a href='vscode-notebook-cell:/Users/rossana/Documents/GitHub/Pandas-for-data-analysis-course/twitter_exercise.ipynb#W4sZmlsZQ%3D%3D?line=2'>3</a>\u001b[0m min_font_size \u001b[39m=\u001b[39m \u001b[39m10\u001b[39m)\u001b[39m.\u001b[39mgenerate(all_text)\n",
      "\u001b[0;31mNameError\u001b[0m: name 'WordCloud' is not defined"
     ]
    }
   ],
   "source": [
    "wordcloud = WordCloud(width = 800, height = 800,\n",
    "background_color ='white',\n",
    "min_font_size = 10).generate(all_text)"
   ]
  }
 ],
 "metadata": {
  "kernelspec": {
   "display_name": "Python 3",
   "language": "python",
   "name": "python3"
  },
  "language_info": {
   "codemirror_mode": {
    "name": "ipython",
    "version": 3
   },
   "file_extension": ".py",
   "mimetype": "text/x-python",
   "name": "python",
   "nbconvert_exporter": "python",
   "pygments_lexer": "ipython3",
   "version": "3.9.12"
  },
  "orig_nbformat": 4
 },
 "nbformat": 4,
 "nbformat_minor": 2
}
